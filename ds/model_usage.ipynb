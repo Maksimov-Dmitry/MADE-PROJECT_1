{
 "cells": [
  {
   "cell_type": "code",
   "execution_count": 4,
   "id": "66a0743c",
   "metadata": {},
   "outputs": [],
   "source": [
    "import pickle\n",
    "from model import Model\n",
    "\n",
    "with open('model', 'rb') as picklefile:\n",
    "    model = pickle.load(picklefile)"
   ]
  },
  {
   "cell_type": "code",
   "execution_count": 5,
   "id": "cd296b17",
   "metadata": {},
   "outputs": [
    {
     "data": {
      "text/plain": [
       "[(14, 0.6887093), (0, 0.8442193)]"
      ]
     },
     "execution_count": 5,
     "metadata": {},
     "output_type": "execute_result"
    }
   ],
   "source": [
    "model.predict(['I am AI developer', 'MAchine learning PCA MDS'])"
   ]
  }
 ],
 "metadata": {
  "kernelspec": {
   "display_name": "Python 3 (ipykernel)",
   "language": "python",
   "name": "python3"
  },
  "language_info": {
   "codemirror_mode": {
    "name": "ipython",
    "version": 3
   },
   "file_extension": ".py",
   "mimetype": "text/x-python",
   "name": "python",
   "nbconvert_exporter": "python",
   "pygments_lexer": "ipython3",
   "version": "3.9.7"
  }
 },
 "nbformat": 4,
 "nbformat_minor": 5
}
