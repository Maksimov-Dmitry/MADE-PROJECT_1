{
 "cells": [
  {
   "cell_type": "code",
   "execution_count": 28,
   "id": "66a0743c",
   "metadata": {},
   "outputs": [],
   "source": [
    "import pickle\n",
    "from model import Model\n",
    "from coauthors_model import CoAuthors\n",
    "from articles_model import RecommendationArticles\n",
    "\n",
    "with open('model', 'rb') as picklefile:\n",
    "    topics = pickle.load(picklefile)\n",
    "\n",
    "with open('coauthors_model', 'rb') as picklefile:\n",
    "    co_authors = pickle.load(picklefile)\n",
    "\n",
    "with open('articles_model', 'rb') as picklefile:\n",
    "    articles = pickle.load(picklefile)"
   ]
  },
  {
   "cell_type": "code",
   "execution_count": 29,
   "id": "cd296b17",
   "metadata": {},
   "outputs": [
    {
     "data": {
      "text/plain": [
       "[(12, 0.04212452150082872), (27, 0.06481010166674357)]"
      ]
     },
     "execution_count": 29,
     "metadata": {},
     "output_type": "execute_result"
    }
   ],
   "source": [
    "topics.predict(['I am AI developer', 'MAchine learning PCA MDS'])"
   ]
  },
  {
   "cell_type": "code",
   "execution_count": 30,
   "id": "8b9664e8",
   "metadata": {},
   "outputs": [
    {
     "data": {
      "text/plain": [
       "['Wang Lei',\n",
       " 'Huiyang Zhou',\n",
       " 'Xiaodi Huang',\n",
       " 'Guoliang Chen',\n",
       " 'Tao Luo',\n",
       " 'Chen Ding',\n",
       " 'Chao Li',\n",
       " 'Chao Yang',\n",
       " 'Ke Wang',\n",
       " 'Ting Wang']"
      ]
     },
     "execution_count": 30,
     "metadata": {},
     "output_type": "execute_result"
    }
   ],
   "source": [
    "co_authors.predict('Yunquan Zhang')"
   ]
  },
  {
   "cell_type": "code",
   "execution_count": 31,
   "id": "3e5586cc",
   "metadata": {},
   "outputs": [
    {
     "data": {
      "text/plain": [
       "'[{\"title\":\"Boosting: an ensemble learning tool for compound classification and QSAR modeling.\",\"year\":2005.0,\"doi\":\"10.1021\\\\/ci0500379\"},{\"title\":\"Pushing Feature Selection Ahead Of Join\",\"year\":2005.0,\"doi\":\"\"},{\"title\":\"An Integrated 3D Face-Expression Recognition Approach.\",\"year\":2006.0,\"doi\":\"10.1109\\\\/ICASSP.2006.1660858\"},{\"title\":\"Medical image classification with multiple kernel learning.\",\"year\":2010.0,\"doi\":\"10.1145\\\\/1937728.1937773\"},{\"title\":\"Support-Vector Networks\",\"year\":1995.0,\"doi\":\"10.1023\\\\/A:1022627411411\"},{\"title\":\"A Tutorial on Support Vector Machines for Pattern Recognition\",\"year\":1998.0,\"doi\":\"10.1023\\\\/A:1009715923555\"},{\"title\":\"A decision-theoretic generalization of on-line learning and an application to boosting\",\"year\":2010.0,\"doi\":\"\"},{\"title\":\"Experiments with a New Boosting Algorithm\",\"year\":1996.0,\"doi\":\"\"},{\"title\":\"An introduction to variable and feature selection\",\"year\":2003.0,\"doi\":\"\"},{\"title\":\"Beyond Bags of Features: Spatial Pyramid Matching for Recognizing Natural Scene Categories\",\"year\":2006.0,\"doi\":\"10.1109\\\\/CVPR.2006.68\"}]'"
      ]
     },
     "execution_count": 31,
     "metadata": {},
     "output_type": "execute_result"
    }
   ],
   "source": [
    "articles.predict('MAchine learning PCA MDS', 'Yunquan Zhang')"
   ]
  },
  {
   "cell_type": "code",
   "execution_count": 32,
   "id": "e5f9bf49",
   "metadata": {},
   "outputs": [
    {
     "data": {
      "text/plain": [
       "'[{\"title\":\"Support-Vector Networks\",\"year\":1995.0,\"doi\":\"10.1023\\\\/A:1022627411411\"},{\"title\":\"A Tutorial on Support Vector Machines for Pattern Recognition\",\"year\":1998.0,\"doi\":\"10.1023\\\\/A:1009715923555\"},{\"title\":\"A decision-theoretic generalization of on-line learning and an application to boosting\",\"year\":2010.0,\"doi\":\"\"},{\"title\":\"Experiments with a New Boosting Algorithm\",\"year\":1996.0,\"doi\":\"\"},{\"title\":\"An introduction to variable and feature selection\",\"year\":2003.0,\"doi\":\"\"},{\"title\":\"Beyond Bags of Features: Spatial Pyramid Matching for Recognizing Natural Scene Categories\",\"year\":2006.0,\"doi\":\"10.1109\\\\/CVPR.2006.68\"},{\"title\":\"The FERET Evaluation Methodology for Face-Recognition Algorithms\",\"year\":2000.0,\"doi\":\"10.1109\\\\/34.879790\"},{\"title\":\"Face Recognition Using Eigenfaces\",\"year\":1991.0,\"doi\":\"10.1109\\\\/CVPR.1991.139758\"},{\"title\":\"Robust face recognition via sparse representation.\",\"year\":2009.0,\"doi\":\"10.1109\\\\/TPAMI.2008.79\"},{\"title\":\"Gene Selection for Cancer Classification using Support Vector Machines\",\"year\":2000.0,\"doi\":\"10.1023\\\\/A:1012487302797\"}]'"
      ]
     },
     "execution_count": 32,
     "metadata": {},
     "output_type": "execute_result"
    }
   ],
   "source": [
    "articles.predict('MAchine learning PCA MDS')"
   ]
  },
  {
   "cell_type": "code",
   "execution_count": 33,
   "id": "99d27999",
   "metadata": {},
   "outputs": [
    {
     "data": {
      "text/plain": [
       "'[{\"title\":\"Differential Power Analysis\",\"year\":1999.0,\"doi\":\"10.1007\\\\/3-540-48405-1_25\"},{\"title\":\"A new polynomial-time algorithm for linear programming\",\"year\":1984.0,\"doi\":\"10.1007\\\\/BF02579150\"},{\"title\":\"Learning the Kernel Matrix with Semidefinite Programming\",\"year\":2003.0,\"doi\":\"\"},{\"title\":\"A Fast Iterative Shrinkage-Thresholding Algorithm for Linear Inverse Problems\",\"year\":2009.0,\"doi\":\"10.1137\\\\/080716542\"},{\"title\":\"Synthesis and evaluation of linear motion transitions\",\"year\":2008.0,\"doi\":\"10.1145\\\\/1330511.1330512\"},{\"title\":\"A linear time algorithm for finding tree-decompositions of small treewidth\",\"year\":1996.0,\"doi\":\"10.1137\\\\/S0097539793251219\"},{\"title\":\"The rendering equation\",\"year\":1998.0,\"doi\":\"10.1145\\\\/280811.280987\"},{\"title\":\"An approach to fuzzy control of nonlinear systems: stability and design issues\",\"year\":1996.0,\"doi\":\"10.1109\\\\/91.481841\"},{\"title\":\"Training linear SVMs in linear time\",\"year\":2006.0,\"doi\":\"10.1145\\\\/1150402.1150429\"},{\"title\":\"Gradient Projection for Sparse Reconstruction: Application to Compressed Sensing and Other Inverse Problems\",\"year\":2007.0,\"doi\":\"10.1109\\\\/JSTSP.2007.910281\"}]'"
      ]
     },
     "execution_count": 33,
     "metadata": {},
     "output_type": "execute_result"
    }
   ],
   "source": [
    "articles.predict('Yunquan Zhang')"
   ]
  },
  {
   "cell_type": "code",
   "execution_count": 34,
   "id": "672b200f",
   "metadata": {},
   "outputs": [
    {
     "data": {
      "text/plain": [
       "'[]'"
      ]
     },
     "execution_count": 34,
     "metadata": {},
     "output_type": "execute_result"
    }
   ],
   "source": [
    "articles.predict()"
   ]
  }
 ],
 "metadata": {
  "kernelspec": {
   "display_name": "Python 3 (ipykernel)",
   "language": "python",
   "name": "python3"
  },
  "language_info": {
   "codemirror_mode": {
    "name": "ipython",
    "version": 3
   },
   "file_extension": ".py",
   "mimetype": "text/x-python",
   "name": "python",
   "nbconvert_exporter": "python",
   "pygments_lexer": "ipython3",
   "version": "3.9.7"
  },
  "vscode": {
   "interpreter": {
    "hash": "269080a76c9cfe9284788914af53192f4bda14a2de38f7424048a09076e613df"
   }
  }
 },
 "nbformat": 4,
 "nbformat_minor": 5
}
